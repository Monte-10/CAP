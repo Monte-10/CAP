{
 "cells": [
  {
   "cell_type": "markdown",
   "metadata": {},
   "source": [
    "### Comparador de tiempos de ejecución"
   ]
  },
  {
   "cell_type": "markdown",
   "metadata": {},
   "source": [
    "Asigna la ruta al archivo:"
   ]
  },
  {
   "cell_type": "code",
   "execution_count": null,
   "metadata": {},
   "outputs": [],
   "source": [
    "latest_p1_folder_path = \"./\""
   ]
  },
  {
   "cell_type": "markdown",
   "metadata": {},
   "source": [
    "Ejecución de los programas para medir tiempos."
   ]
  },
  {
   "cell_type": "markdown",
   "metadata": {},
   "source": [
    "Obtenemos varios tiempos para versión no vectorizada:"
   ]
  },
  {
   "cell_type": "code",
   "execution_count": null,
   "id": "24206e53",
   "metadata": {},
   "outputs": [],
   "source": [
    "\n",
    "times_no_vec = []\n",
    "for _ in range(10):\n",
    "    time_no_vec = compile_and_execute(source_code_path, output_no_vec, flags_no_vec)\n",
    "    times_no_vec.append(time_no_vec)\n",
    "times_no_vec\n"
   ]
  },
  {
   "cell_type": "markdown",
   "metadata": {},
   "source": [
    "Obtenemos varios tiempos para la versión vectorizada:"
   ]
  },
  {
   "cell_type": "code",
   "execution_count": null,
   "id": "f57e08af",
   "metadata": {},
   "outputs": [],
   "source": [
    "\n",
    "times_vec = []\n",
    "for _ in range(10):\n",
    "    time_vec = compile_and_execute(source_code_path, output_vec, flags_vec)\n",
    "    times_vec.append(time_vec)\n",
    "times_vec\n"
   ]
  },
  {
   "cell_type": "markdown",
   "metadata": {},
   "source": [
    "Vemos resultados en la gráfica:"
   ]
  },
  {
   "cell_type": "code",
   "execution_count": null,
   "id": "c9c758d1",
   "metadata": {},
   "outputs": [],
   "source": [
    "\n",
    "import matplotlib.pyplot as plt\n",
    "import numpy as np\n",
    "\n",
    "times_no_vec_mean = np.mean(times_no_vec)\n",
    "times_vec_mean = np.mean(times_vec)\n",
    "\n",
    "x = np.arange(1, 11)\n",
    "plt.figure(figsize=(10, 6))\n",
    "plt.plot(x, times_no_vec_mean, label='No-Vectorizada', marker='o', color='blue')\n",
    "plt.plot(x, times_vec_mean, label='Vectorizada', marker='o', color='green')\n",
    "plt.xlabel('Veces Ejecutado')\n",
    "plt.ylabel('Tiempo de ejecución (segundos)')\n",
    "plt.title('Comparación Tiempo Ejecución: Vectorizada vs No-Vectorizada')\n",
    "plt.legend()\n",
    "plt.grid(True)\n",
    "plt.show()\n"
   ]
  },
  {
   "cell_type": "markdown",
   "metadata": {},
   "source": [
    "Como se puede observar con la vectorización se obtiene un mejor rendimiento general, aunque es cierto que solo son unas centésimas de segundo."
   ]
  }
 ],
 "metadata": {
  "kernelspec": {
   "display_name": "Python 3",
   "language": "python",
   "name": "python3"
  },
  "language_info": {
   "codemirror_mode": {
    "name": "ipython",
    "version": 3
   },
   "file_extension": ".py",
   "mimetype": "text/x-python",
   "name": "python",
   "nbconvert_exporter": "python",
   "pygments_lexer": "ipython3",
   "version": "3.10.12"
  }
 },
 "nbformat": 4,
 "nbformat_minor": 2
}
